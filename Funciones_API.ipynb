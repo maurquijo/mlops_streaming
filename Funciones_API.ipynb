{
 "cells": [
  {
   "attachments": {},
   "cell_type": "markdown",
   "metadata": {},
   "source": [
    "**Desarrollo de funciones para realizar las consultas.**"
   ]
  },
  {
   "attachments": {},
   "cell_type": "markdown",
   "metadata": {},
   "source": [
    "El cliente solicita que desde la API se puedan realizar seis consultas diferentes a nuestros datos. Las consultas son:\n",
    "1. Película con mayor duración según el año, la plataforma de streaming y su tipo de duración (min).\n",
    "2. Cantidad de películas por plataforma con un puntaje mayor a XX en un año determinado.\n",
    "3. Cantidad de películas que se pueden encontrar según la plataforma.\n",
    "4. Actor que más se repite en los elencos según la plataforma y el año de la producción cinematográfica.\n",
    "5. La cantidad de contenidos/productos que se publicó por país y año.\n",
    "6. La cantidad total de contenidos según el rating de audiencia dado (para que publico fue clasificada la pelicula).\n",
    "\n",
    "\n",
    "En este apartado, se encontrarán las funciones que se realizaron para poder navegar dentro del DataFrame y obtener las respuestas a consultas que se mencionaron anteriormente."
   ]
  },
  {
   "cell_type": "code",
   "execution_count": 1,
   "metadata": {},
   "outputs": [],
   "source": [
    "# Antes de comenzar, importamos la librería a utilizar, llamada Pandas.\n",
    "import pandas as pd"
   ]
  },
  {
   "cell_type": "code",
   "execution_count": 2,
   "metadata": {},
   "outputs": [],
   "source": [
    "# Primero importamos el archivo para que podamos realizar las consultas necesarias.\n",
    "plataformas_df = pd.read_csv(r'.\\Dataset\\Streaming_services_clean.csv')"
   ]
  },
  {
   "attachments": {},
   "cell_type": "markdown",
   "metadata": {},
   "source": [
    "Se valida que se hayan cargado los datos correctamente."
   ]
  },
  {
   "cell_type": "code",
   "execution_count": 3,
   "metadata": {},
   "outputs": [
    {
     "data": {
      "text/html": [
       "<div>\n",
       "<style scoped>\n",
       "    .dataframe tbody tr th:only-of-type {\n",
       "        vertical-align: middle;\n",
       "    }\n",
       "\n",
       "    .dataframe tbody tr th {\n",
       "        vertical-align: top;\n",
       "    }\n",
       "\n",
       "    .dataframe thead th {\n",
       "        text-align: right;\n",
       "    }\n",
       "</style>\n",
       "<table border=\"1\" class=\"dataframe\">\n",
       "  <thead>\n",
       "    <tr style=\"text-align: right;\">\n",
       "      <th></th>\n",
       "      <th>id</th>\n",
       "      <th>type</th>\n",
       "      <th>title</th>\n",
       "      <th>director</th>\n",
       "      <th>cast</th>\n",
       "      <th>country</th>\n",
       "      <th>date_added</th>\n",
       "      <th>release_year</th>\n",
       "      <th>rating</th>\n",
       "      <th>duration_int</th>\n",
       "      <th>duration_type</th>\n",
       "      <th>listed_in</th>\n",
       "      <th>description</th>\n",
       "      <th>userId</th>\n",
       "      <th>score</th>\n",
       "      <th>timestamp</th>\n",
       "      <th>mean_score</th>\n",
       "    </tr>\n",
       "  </thead>\n",
       "  <tbody>\n",
       "    <tr>\n",
       "      <th>0</th>\n",
       "      <td>as1</td>\n",
       "      <td>movie</td>\n",
       "      <td>the grand seduction</td>\n",
       "      <td>don mckellar</td>\n",
       "      <td>brendan gleeson, taylor kitsch, gordon pinsent</td>\n",
       "      <td>canada</td>\n",
       "      <td>2021-03-30</td>\n",
       "      <td>2014</td>\n",
       "      <td>g</td>\n",
       "      <td>113</td>\n",
       "      <td>min</td>\n",
       "      <td>comedy, drama</td>\n",
       "      <td>a small fishing village must procure a local d...</td>\n",
       "      <td>543</td>\n",
       "      <td>5.0</td>\n",
       "      <td>2003-07-30 20:23:02</td>\n",
       "      <td>3.467131</td>\n",
       "    </tr>\n",
       "    <tr>\n",
       "      <th>1</th>\n",
       "      <td>as2</td>\n",
       "      <td>movie</td>\n",
       "      <td>take care good night</td>\n",
       "      <td>girish joshi</td>\n",
       "      <td>mahesh manjrekar, abhay mahajan, sachin khedekar</td>\n",
       "      <td>india</td>\n",
       "      <td>2021-03-30</td>\n",
       "      <td>2018</td>\n",
       "      <td>13+</td>\n",
       "      <td>110</td>\n",
       "      <td>min</td>\n",
       "      <td>drama, international</td>\n",
       "      <td>a metro family decides to fight a cyber crimin...</td>\n",
       "      <td>321</td>\n",
       "      <td>3.0</td>\n",
       "      <td>2007-06-10 04:59:41</td>\n",
       "      <td>3.548682</td>\n",
       "    </tr>\n",
       "    <tr>\n",
       "      <th>2</th>\n",
       "      <td>as3</td>\n",
       "      <td>movie</td>\n",
       "      <td>secrets of deception</td>\n",
       "      <td>josh webber</td>\n",
       "      <td>tom sizemore, lorenzo lamas, robert lasardo, r...</td>\n",
       "      <td>united states</td>\n",
       "      <td>2021-03-30</td>\n",
       "      <td>2017</td>\n",
       "      <td>g</td>\n",
       "      <td>74</td>\n",
       "      <td>min</td>\n",
       "      <td>action, drama, suspense</td>\n",
       "      <td>after a man discovers his wife is cheating on ...</td>\n",
       "      <td>582</td>\n",
       "      <td>5.0</td>\n",
       "      <td>2011-09-24 05:49:30</td>\n",
       "      <td>3.500000</td>\n",
       "    </tr>\n",
       "    <tr>\n",
       "      <th>3</th>\n",
       "      <td>as4</td>\n",
       "      <td>movie</td>\n",
       "      <td>pink: staying true</td>\n",
       "      <td>sonia anderson</td>\n",
       "      <td>interviews with: pink, adele, beyoncé, britney...</td>\n",
       "      <td>united states</td>\n",
       "      <td>2021-03-30</td>\n",
       "      <td>2014</td>\n",
       "      <td>g</td>\n",
       "      <td>69</td>\n",
       "      <td>min</td>\n",
       "      <td>documentary</td>\n",
       "      <td>pink breaks the mold once again, bringing her ...</td>\n",
       "      <td>151</td>\n",
       "      <td>1.5</td>\n",
       "      <td>2004-04-08 19:54:41</td>\n",
       "      <td>3.538055</td>\n",
       "    </tr>\n",
       "    <tr>\n",
       "      <th>4</th>\n",
       "      <td>as5</td>\n",
       "      <td>movie</td>\n",
       "      <td>monster maker</td>\n",
       "      <td>giles foster</td>\n",
       "      <td>harry dean stanton, kieran o'brien, george cos...</td>\n",
       "      <td>united kingdom</td>\n",
       "      <td>2021-03-30</td>\n",
       "      <td>1989</td>\n",
       "      <td>g</td>\n",
       "      <td>45</td>\n",
       "      <td>min</td>\n",
       "      <td>drama, fantasy</td>\n",
       "      <td>teenage matt banting wants to work with a famo...</td>\n",
       "      <td>24</td>\n",
       "      <td>5.0</td>\n",
       "      <td>2001-01-20 06:34:51</td>\n",
       "      <td>3.478992</td>\n",
       "    </tr>\n",
       "  </tbody>\n",
       "</table>\n",
       "</div>"
      ],
      "text/plain": [
       "    id   type                 title        director  \\\n",
       "0  as1  movie   the grand seduction    don mckellar   \n",
       "1  as2  movie  take care good night    girish joshi   \n",
       "2  as3  movie  secrets of deception     josh webber   \n",
       "3  as4  movie    pink: staying true  sonia anderson   \n",
       "4  as5  movie         monster maker    giles foster   \n",
       "\n",
       "                                                cast         country  \\\n",
       "0     brendan gleeson, taylor kitsch, gordon pinsent          canada   \n",
       "1   mahesh manjrekar, abhay mahajan, sachin khedekar           india   \n",
       "2  tom sizemore, lorenzo lamas, robert lasardo, r...   united states   \n",
       "3  interviews with: pink, adele, beyoncé, britney...   united states   \n",
       "4  harry dean stanton, kieran o'brien, george cos...  united kingdom   \n",
       "\n",
       "   date_added  release_year rating  duration_int duration_type  \\\n",
       "0  2021-03-30          2014      g           113           min   \n",
       "1  2021-03-30          2018    13+           110           min   \n",
       "2  2021-03-30          2017      g            74           min   \n",
       "3  2021-03-30          2014      g            69           min   \n",
       "4  2021-03-30          1989      g            45           min   \n",
       "\n",
       "                 listed_in                                        description  \\\n",
       "0            comedy, drama  a small fishing village must procure a local d...   \n",
       "1     drama, international  a metro family decides to fight a cyber crimin...   \n",
       "2  action, drama, suspense  after a man discovers his wife is cheating on ...   \n",
       "3              documentary  pink breaks the mold once again, bringing her ...   \n",
       "4           drama, fantasy  teenage matt banting wants to work with a famo...   \n",
       "\n",
       "   userId  score            timestamp  mean_score  \n",
       "0     543    5.0  2003-07-30 20:23:02    3.467131  \n",
       "1     321    3.0  2007-06-10 04:59:41    3.548682  \n",
       "2     582    5.0  2011-09-24 05:49:30    3.500000  \n",
       "3     151    1.5  2004-04-08 19:54:41    3.538055  \n",
       "4      24    5.0  2001-01-20 06:34:51    3.478992  "
      ]
     },
     "execution_count": 3,
     "metadata": {},
     "output_type": "execute_result"
    }
   ],
   "source": [
    "plataformas_df.head()"
   ]
  },
  {
   "attachments": {},
   "cell_type": "markdown",
   "metadata": {},
   "source": [
    "----------"
   ]
  },
  {
   "attachments": {},
   "cell_type": "markdown",
   "metadata": {},
   "source": [
    "Consulta N°1: Película con mayor duración según el año, la plataforma de streaming y su tipo de duración (min)."
   ]
  },
  {
   "cell_type": "code",
   "execution_count": 12,
   "metadata": {},
   "outputs": [],
   "source": [
    "def get_max_duration(anio, plataforma, dtype):\n",
    "    \n",
    "    # Se realiza una copia de la base de datos para que, en el caso de que pase, no sufra modificaciones la base de datos original.\n",
    "    gmd_p = plataformas_df \n",
    "    \n",
    "    # Se crean los filtros de  dependiendo la plataforma, el año y si es tipo 'min' o 'seasons'.\n",
    "    if plataforma.lower() == 'amazon prime':\n",
    "        if dtype == 'min':\n",
    "            gmd_p = gmd_p[(gmd_p['type'] == 'movie') & (gmd_p['release_year'] == anio) & (gmd_p['duration_type'] == dtype) & (gmd_p['id'].apply(lambda x: 'a' in x))]\n",
    "        elif dtype == 'season':\n",
    "            return 'La función sólo permite buscar películas con máxima duración. Para realizar la búsqueda ingrese: min.'\n",
    "    \n",
    "    elif plataforma.lower() == 'disney plus':\n",
    "        if dtype == 'min':\n",
    "            gmd_p = gmd_p[(gmd_p['type'] == 'movie') & (gmd_p['release_year'] == anio) & (gmd_p['duration_type'] == dtype) & (gmd_p['id'].apply(lambda x: 'd' in x))]\n",
    "        elif dtype == 'season':\n",
    "            return 'La función sólo permite buscar películas con máxima duración. Para realizar la búsqueda ingrese: min.'\n",
    "    \n",
    "    elif plataforma.lower() == 'hulu':\n",
    "        if dtype == 'min':\n",
    "            gmd_p = gmd_p[(gmd_p['type'] == 'movie') & (gmd_p['release_year'] == anio) & (gmd_p['duration_type'] == dtype) & (gmd_p['id'].apply(lambda x: 'h' in x))]\n",
    "        elif dtype == 'season':\n",
    "            return 'La función sólo permite buscar películas con máxima duración. Para realizar la búsqueda ingrese: min.'\n",
    "    \n",
    "    elif plataforma.lower() == 'netflix':\n",
    "        if dtype == 'min':\n",
    "            gmd_p = gmd_p[(gmd_p['type'] == 'movie') & (gmd_p['release_year'] == anio) & (gmd_p['duration_type'] == dtype) & (gmd_p['id'].apply(lambda x: 'n' in x))]\n",
    "        elif dtype == 'season':\n",
    "            return 'La función sólo permite buscar películas con máxima duración. Para realizar la búsqueda ingrese: min.'\n",
    "    \n",
    "    # En caso de que se consulte otra plataforma que no esté cargada en la base de datos, se retornará este mensaje explicativo.\n",
    "    else: \n",
    "        print('No se encuentra en nuestro dataset la plataforma que desea buscar. Cabe aclarar que sólo tenemos registros pertenecientes a: Amazon Prime, Disney Plus, Hulu y Netflix. Disculpe las molestias ocasiondas.')\n",
    "        return None\n",
    "    \n",
    "    # Se crea el filtro para que se obtenga la fila de la película o serie que tiene más duración.\n",
    "    gmd_p_copia = gmd_p[gmd_p['duration_int'] == (gmd_p['duration_int'].max())]\n",
    "    \n",
    "    # Por último, imprime un mensaje donde contiene los resultados de la consulta.\n",
    "    return {'pelicula': gmd_p_copia.iloc[0,2]}"
   ]
  },
  {
   "attachments": {},
   "cell_type": "markdown",
   "metadata": {},
   "source": [
    "Se verifica que la función devuelva la consulta correctamente. A modo de ejemplo, se utilizarán los valores: 2018, 'Hulu', 'min'."
   ]
  },
  {
   "cell_type": "code",
   "execution_count": 13,
   "metadata": {},
   "outputs": [
    {
     "data": {
      "text/plain": [
       "{'pelicula': 'the house that jack built'}"
      ]
     },
     "execution_count": 13,
     "metadata": {},
     "output_type": "execute_result"
    }
   ],
   "source": [
    "\n",
    "get_max_duration(2018,'Hulu','min')"
   ]
  },
  {
   "attachments": {},
   "cell_type": "markdown",
   "metadata": {},
   "source": [
    "Consulta N°2: Cantidad de películas por plataforma con un puntaje mayor a XX en un año determinado."
   ]
  },
  {
   "cell_type": "code",
   "execution_count": 56,
   "metadata": {},
   "outputs": [],
   "source": [
    "def get_score_count(plataforma, scored, anio):\n",
    "    \n",
    "    # Se realiza una copia de la base de datos para que, en el caso de que pase, no sufra modificaciones la base de datos original.\n",
    "    gsc_p= plataformas_df\n",
    "    \n",
    "    # Se crea el filtro para que se obtenga el resultado correcto segun el año de lanzamiento de la película/serie y que tenga una puntuación mayor a la que establezca el usuario.\n",
    "    gsc_p = gsc_p[(gsc_p['mean_score'] >= scored) & (gsc_p['release_year'] == anio)]\n",
    "    \n",
    "    # Se crea el filtro para que pueda discriminar según la plataforma a buscar.\n",
    "    if plataforma.lower() == 'amazon prime':\n",
    "        gsc_pc = gsc_p[gsc_p['id'].apply(lambda x: 'a' in x)]\n",
    "\n",
    "    elif plataforma.lower() == 'disney plus':\n",
    "        gsc_pc = gsc_p[gsc_p['id'].apply(lambda x: 'd' in x)]\n",
    "    \n",
    "    elif plataforma.lower() == 'hulu':\n",
    "        gsc_pc = gsc_p[gsc_p['id'].apply(lambda x: 'h' in x)]\n",
    "\n",
    "    elif plataforma.lower() == 'netflix':\n",
    "        gsc_pc = gsc_p[gsc_p['id'].apply(lambda x: 'n' in x)]\n",
    "\n",
    "    # En caso de que se consulte otra plataforma que no esté cargada en la base de datos, se retornará este mensaje explicativo.\n",
    "    else:\n",
    "        print('No se encuentra en nuestro dataset la plataforma que desea buscar. Cabe aclarar que sólo tenemos registros pertenecientes a: Amazon Prime, Disney Plus, Hulu y Netflix. Disculpe las molestias ocasiondas')\n",
    "    \n",
    "    # Por último, imprime un mensaje donde contiene los resultados de la consulta.\n",
    "    return {\n",
    "        'plataforma': plataforma,\n",
    "        'cantidad': gsc_pc.shape[0],\n",
    "        'anio': anio,\n",
    "        'score': scored\n",
    "    }"
   ]
  },
  {
   "attachments": {},
   "cell_type": "markdown",
   "metadata": {},
   "source": [
    "Se verifica que la función devuelva la consulta correctamente. A modo de ejemplo, se utilizarán los valores: 'Netflix', 3 , 2016."
   ]
  },
  {
   "cell_type": "code",
   "execution_count": 16,
   "metadata": {},
   "outputs": [
    {
     "data": {
      "text/plain": [
       "{'plataforma': 'netflix', 'cantidad': 677, 'anio': 2016, 'score': 3.5}"
      ]
     },
     "execution_count": 16,
     "metadata": {},
     "output_type": "execute_result"
    }
   ],
   "source": [
    "get_score_count('netflix',3.5,2016)"
   ]
  },
  {
   "attachments": {},
   "cell_type": "markdown",
   "metadata": {},
   "source": [
    "Consulta N°3: Cantidad de películas que se pueden encontrar según la plataforma."
   ]
  },
  {
   "cell_type": "code",
   "execution_count": 54,
   "metadata": {},
   "outputs": [],
   "source": [
    "def get_count_platform(plataforma):\n",
    "    \n",
    "    # Se realiza una copia de la base de datos para que, en el caso de que pase, no sufra modificaciones la base de datos original.\n",
    "    gcp_p = plataformas_df\n",
    "    \n",
    "    # Se crea el filtro para que pueda discriminar según la plataforma a buscar.\n",
    "    if plataforma.lower() == 'amazon prime':\n",
    "        gcp_pc= gcp_p[gcp_p['id'].apply(lambda x: 'a' in x)]\n",
    "\n",
    "    elif plataforma.lower() == 'disney plus':\n",
    "        gcp_pc = gcp_p[gcp_p['id'].apply(lambda x: 'd' in x)]\n",
    "    \n",
    "    elif plataforma.lower() == 'hulu':\n",
    "        gcp_pc = gcp_p[gcp_p['id'].apply(lambda x: 'h' in x)]\n",
    "\n",
    "    elif plataforma.lower() == 'netflix':\n",
    "        gcp_pc = gcp_p[gcp_p['id'].apply(lambda x: 'n' in x)]\n",
    "    \n",
    "    # En caso de que se consulte otra plataforma que no esté cargada en la base de datos, se retornará este mensaje explicativo.\n",
    "    else:\n",
    "        print('No se encuentra en nuestro dataset la plataforma que desea buscar. Cabe aclarar que sólo tenemos registros pertenecientes a: Amazon Prime, Disney Plus, Hulu y Netflix. Disculpe las molestias ocasiondas')\n",
    "    \n",
    "    # Por último, imprime un mensaje donde contiene los resultados de la consulta.\n",
    "    return {'plataforma': plataforma, 'peliculas': gcp_pc.shape[0]}"
   ]
  },
  {
   "attachments": {},
   "cell_type": "markdown",
   "metadata": {},
   "source": [
    "Se verifica que funcione de manera correcta. A modo de ejemplo, se utilizarán los valores: 'Disney Plus'."
   ]
  },
  {
   "cell_type": "code",
   "execution_count": 55,
   "metadata": {},
   "outputs": [
    {
     "data": {
      "text/plain": [
       "{'plataforma': 'Disney Plus', 'peliculas': 1450}"
      ]
     },
     "execution_count": 55,
     "metadata": {},
     "output_type": "execute_result"
    }
   ],
   "source": [
    "get_count_platform('Disney Plus')"
   ]
  },
  {
   "attachments": {},
   "cell_type": "markdown",
   "metadata": {},
   "source": [
    "Consulta N°4: Actor que más se repite en los elencos según la plataforma y el año de la producción cinematográfica."
   ]
  },
  {
   "cell_type": "code",
   "execution_count": 3,
   "metadata": {},
   "outputs": [],
   "source": [
    "def get_actor(plataforma, anio):\n",
    "    \n",
    "    # Se realiza una copia de la base de datos para que, en el caso de que pase, no sufra modificaciones la base de datos original.\n",
    "    ga_p = plataformas_df\n",
    "    \n",
    "    # Se crea el filtro para que pueda discriminar según la plataforma, y luego obtener el valor que más se repite. \n",
    "    if plataforma.lower() == 'amazon prime':\n",
    "        ga_pc= ga_p[(ga_p['release_year'] == anio) & (ga_p['id'].apply(lambda x: 'a' in x))]\n",
    "        ga_pca= ga_pc['cast'].value_counts().idxmax()\n",
    "        aux = ga_pc.loc[ga_pc['cast'] == ga_pca].count()[0]\n",
    "\n",
    "    elif plataforma.lower() == 'disney plus':\n",
    "        ga_pc = ga_p[(ga_p['release_year'] == anio) & (ga_p['id'].apply(lambda x: 'd' in x))]\n",
    "        ga_pca= ga_pc['cast'].value_counts().idxmax()\n",
    "        aux = ga_pc.loc[ga_pc['cast'] == ga_pca].count()[0]\n",
    "\n",
    "    elif plataforma.lower() == 'hulu':\n",
    "        ga_pc = ga_p[(ga_p['release_year'] == anio) & (ga_p['id'].apply(lambda x: 'h' in x))]\n",
    "        ga_pca= ga_pc['cast'].value_counts().idxmax()\n",
    "        aux = ga_pc.loc[ga_pc['cast'] == ga_pca].count()[0]\n",
    "\n",
    "    elif plataforma.lower() == 'netflix':\n",
    "        ga_pc = ga_p[(ga_p['release_year'] == anio) & (ga_p['id'].apply(lambda x: 'n' in x))]\n",
    "        ga_pca= ga_pc['cast'].value_counts().idxmax()\n",
    "        aux = ga_pc.loc[ga_pc['cast'] == ga_pca].count()[0]\n",
    "        \n",
    "    # En caso de que se consulte otra plataforma que no esté cargada en la base de datos, se retornará este mensaje explicativo.\n",
    "    else:\n",
    "        print('No se encuentra en nuestro dataset la plataforma que desea buscar. Cabe aclarar que sólo tenemos registros pertenecientes a: Amazon Prime, Disney Plus, Hulu y Netflix. Disculpe las molestias ocasiondas')\n",
    "    \n",
    "    # Por último, imprime un mensaje donde contiene los resultados de la consulta.\n",
    "    return {\n",
    "        'plataforma': plataforma,\n",
    "        'anio': anio,\n",
    "        'actor': ga_pca,\n",
    "        'apariciones': aux\n",
    "    }"
   ]
  },
  {
   "attachments": {},
   "cell_type": "markdown",
   "metadata": {},
   "source": [
    "Se verifica que la función devuelva la consulta correctamente. A modo de ejemplo, se utilizarán los valores: 'Amazon Prime', 2019."
   ]
  },
  {
   "cell_type": "code",
   "execution_count": 4,
   "metadata": {},
   "outputs": [
    {
     "data": {
      "text/plain": [
       "{'plataforma': 'Amazon Prime',\n",
       " 'anio': 2017,\n",
       " 'actor': 'maggie binkley',\n",
       " 'apariciones': 16}"
      ]
     },
     "execution_count": 4,
     "metadata": {},
     "output_type": "execute_result"
    }
   ],
   "source": [
    "get_actor('Amazon Prime', 2017)"
   ]
  },
  {
   "attachments": {},
   "cell_type": "markdown",
   "metadata": {},
   "source": [
    "Consulta N°5: La cantidad de contenidos/productos que se publicó por país y año."
   ]
  },
  {
   "cell_type": "code",
   "execution_count": 5,
   "metadata": {},
   "outputs": [],
   "source": [
    "def prod_per_county(tipo,pais,anio):\n",
    "    \n",
    "    # Se realiza una copia de la base de datos para que, en el caso de que pase, no sufra modificaciones la base de datos original.\n",
    "    ppc_p = plataformas_df\n",
    "\n",
    "    # Se crea un condicional en caso de que se ingrese un valor erróneo en el parámetro 'tipo'.\n",
    "    if tipo not in ('movie','tv show'):\n",
    "        \n",
    "        return 'La función sólo acepta el tipo como movie o tv show. Ingrese algún formato válido.'\n",
    "    \n",
    "    else:\n",
    "        \n",
    "        # Se crea el filtro para que pueda discriminar según el tipo ('movie' o 'tv show'), pais y anio de la producción cinematográfica.\n",
    "        ppc_pa = ppc_p[(ppc_p['type'] == tipo) & (ppc_p['country'] == pais) & (ppc_p['release_year'] == anio)]\n",
    "\n",
    "        # Por último, imprime un mensaje donde contiene los resultados de la consulta.\n",
    "        return {'pais': pais, 'anio': anio, 'peliculas': ppc_pa.count()[0]}"
   ]
  },
  {
   "attachments": {},
   "cell_type": "markdown",
   "metadata": {},
   "source": [
    "Se verifica devuelva la consulta eficientemente. A modo de ejemplo, se utilizarán los valores: 'tv show','united states', 2017."
   ]
  },
  {
   "cell_type": "code",
   "execution_count": 6,
   "metadata": {},
   "outputs": [
    {
     "data": {
      "text/plain": [
       "{'pais': 'united states', 'anio': 2017, 'peliculas': 125}"
      ]
     },
     "execution_count": 6,
     "metadata": {},
     "output_type": "execute_result"
    }
   ],
   "source": [
    "prod_per_county('tv show','united states',2017)"
   ]
  },
  {
   "attachments": {},
   "cell_type": "markdown",
   "metadata": {},
   "source": [
    "Consulta N°6: La cantidad total de contenidos según el rating de audiencia dado (para que publico fue clasificada la pelicula)."
   ]
  },
  {
   "cell_type": "code",
   "execution_count": 70,
   "metadata": {},
   "outputs": [],
   "source": [
    "def get_contents(rating):\n",
    "\n",
    "    # Se realiza una copia de la base de datos para que, en el caso de que pase, no sufra modificaciones la base de datos original.\n",
    "    gc_p = plataformas_df\n",
    "\n",
    "    # Se crea el filtro para que pueda discriminar por el rating que eligió el usuario.\n",
    "    gc_pr = gc_p[(gc_p['rating'] == rating)]\n",
    "\n",
    "    # Por último, imprime un mensaje donde contiene los resultados de la consulta.\n",
    "    return {'rating': rating, 'contenido': gc_pr.count()[0]}"
   ]
  },
  {
   "attachments": {},
   "cell_type": "markdown",
   "metadata": {},
   "source": [
    "Se valida que la función se ejecute de forma correcta. Se utilizara el parámetro '13+' a modo de ejemplo."
   ]
  },
  {
   "cell_type": "code",
   "execution_count": 69,
   "metadata": {},
   "outputs": [
    {
     "data": {
      "text/plain": [
       "{'rating': '13+', 'contenido': 2117}"
      ]
     },
     "execution_count": 69,
     "metadata": {},
     "output_type": "execute_result"
    }
   ],
   "source": [
    "get_contents('13+')"
   ]
  }
 ],
 "metadata": {
  "kernelspec": {
   "display_name": "Python 3",
   "language": "python",
   "name": "python3"
  },
  "language_info": {
   "codemirror_mode": {
    "name": "ipython",
    "version": 3
   },
   "file_extension": ".py",
   "mimetype": "text/x-python",
   "name": "python",
   "nbconvert_exporter": "python",
   "pygments_lexer": "ipython3",
   "version": "3.10.7"
  },
  "orig_nbformat": 4,
  "vscode": {
   "interpreter": {
    "hash": "25cf953c3b13aa3bfdfd2d21cf5b1b5e016499c91a26176b30662ddb8d1c5c1d"
   }
  }
 },
 "nbformat": 4,
 "nbformat_minor": 2
}
